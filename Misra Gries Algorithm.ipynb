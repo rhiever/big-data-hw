{
 "metadata": {
  "name": "",
  "signature": "sha256:2ebcd7b65158471e406c251a83c36e8efa36b187a329f8b5a0d14add27fb2339"
 },
 "nbformat": 3,
 "nbformat_minor": 0,
 "worksheets": [
  {
   "cells": [
    {
     "cell_type": "code",
     "collapsed": false,
     "input": [
      "%load_ext watermark"
     ],
     "language": "python",
     "metadata": {},
     "outputs": [
      {
       "output_type": "stream",
       "stream": "stderr",
       "text": [
        "/Users/olsonran/.ipython/extensions/watermark.py:49: UserWarning: Module uuid was already imported from //anaconda/lib/python2.7/uuid.pyc, but /anaconda/lib/python2.7/site-packages is being added to sys.path\n",
        "  from pkg_resources import get_distribution\n"
       ]
      }
     ],
     "prompt_number": 1
    },
    {
     "cell_type": "code",
     "collapsed": false,
     "input": [
      "%watermark -a \"Randy Olson\" -d -v -m -g"
     ],
     "language": "python",
     "metadata": {},
     "outputs": [
      {
       "output_type": "stream",
       "stream": "stdout",
       "text": [
        "Randy Olson 26/02/2015 \n",
        "\n",
        "CPython 2.7.9\n",
        "IPython 2.3.0\n",
        "\n",
        "compiler   : GCC 4.2.1 (Apple Inc. build 5577)\n",
        "system     : Darwin\n",
        "release    : 13.4.0\n",
        "machine    : x86_64\n",
        "processor  : i386\n",
        "CPU cores  : 8\n",
        "interpreter: 64bit\n",
        "Git hash   : 0af36d1230f2d7c2c198cdd39b6ea05e1da8c73b\n"
       ]
      }
     ],
     "prompt_number": 2
    },
    {
     "cell_type": "heading",
     "level": 1,
     "metadata": {},
     "source": [
      "Misra Gries Algorithm"
     ]
    },
    {
     "cell_type": "markdown",
     "metadata": {},
     "source": [
      "Finds all items in a sequence whose frequency exceeds a 1/K fraction of the total count.\n",
      "\n",
      "Notes: http://www3.cs.stonybrook.edu/~rezaul/Spring-2013/CSE638/Streaming-Algorithms-%28Ajinkya-and-Hemanga%29.pdf"
     ]
    },
    {
     "cell_type": "code",
     "collapsed": false,
     "input": [
      "import numpy.random as nrandom\n",
      "from collections import Counter, defaultdict\n",
      "\n",
      "K = 5\n",
      "\n",
      "#data_stream = nrandom.randint(low=0, high=101, size=100)\n",
      "data_stream = map(int, nrandom.normal(loc=50.0, scale=2, size=10000000))\n",
      "data_counts = Counter(data_stream)\n",
      "\n",
      "print \"=== ACTUAL RANKS ===\"\n",
      "print \"\"\n",
      "\n",
      "for rank, token in enumerate(sorted(data_counts, key=data_counts.get, reverse=True)):\n",
      "    rank += 1\n",
      "    if rank > 10:\n",
      "        break\n",
      "        \n",
      "    print rank, token, data_counts[token]\n",
      "    \n",
      "print \"\"\n",
      "print \"=== MISRA GRIES RANKS ===\"\n",
      "print \"\"\n",
      "\n",
      "mg_counts = defaultdict(int)\n",
      "\n",
      "for token in data_stream:\n",
      "    if len(mg_counts.keys()) < K:\n",
      "        mg_counts[token] += 1\n",
      "        \n",
      "    elif token in mg_counts:\n",
      "        mg_counts[token] += 1\n",
      "        \n",
      "    else:\n",
      "        for key in mg_counts.keys():\n",
      "            mg_counts[key] -= 1\n",
      "            if mg_counts[key] == 0:\n",
      "                del mg_counts[key]\n",
      "                \n",
      "for rank, token in enumerate(sorted(mg_counts, key=mg_counts.get, reverse=True)):\n",
      "    rank += 1\n",
      "    print rank, token, mg_counts[token]"
     ],
     "language": "python",
     "metadata": {},
     "outputs": [
      {
       "output_type": "stream",
       "stream": "stdout",
       "text": [
        "=== ACTUAL RANKS ===\n",
        "\n",
        "1 49 1916526\n",
        "2 50 1913066\n",
        "3 48 1500043\n",
        "4 51 1498551\n",
        "5 47 917980\n",
        "6 52 917741\n",
        "7 46 440632\n",
        "8 53 440482\n",
        "9 54 165582\n",
        "10 45 165332\n",
        "\n",
        "=== MISRA GRIES RANKS ===\n",
        "\n",
        "1"
       ]
      },
      {
       "output_type": "stream",
       "stream": "stdout",
       "text": [
        " 49 373935\n",
        "2 50 370476\n",
        "3 48 39\n",
        "4 51 3\n",
        "5 52 1\n"
       ]
      }
     ],
     "prompt_number": 37
    },
    {
     "cell_type": "code",
     "collapsed": false,
     "input": [],
     "language": "python",
     "metadata": {},
     "outputs": []
    }
   ],
   "metadata": {}
  }
 ]
}