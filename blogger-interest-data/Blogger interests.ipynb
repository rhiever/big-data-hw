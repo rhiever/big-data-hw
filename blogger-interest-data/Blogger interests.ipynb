{
 "metadata": {
  "name": "",
  "signature": "sha256:d694ef2953c30440c23b1ff0fb0c469f3e68bfae8ff002fda9c7ef85e3890df2"
 },
 "nbformat": 3,
 "nbformat_minor": 0,
 "worksheets": [
  {
   "cells": [
    {
     "cell_type": "heading",
     "level": 1,
     "metadata": {},
     "source": [
      "Create a binary decision tree"
     ]
    },
    {
     "cell_type": "heading",
     "level": 3,
     "metadata": {},
     "source": [
      "Try to guess gender based on interests"
     ]
    },
    {
     "cell_type": "markdown",
     "metadata": {},
     "source": [
      "http://scikit-learn.org/stable/modules/generated/sklearn.tree.DecisionTreeClassifier.html#sklearn.tree.DecisionTreeClassifier"
     ]
    },
    {
     "cell_type": "code",
     "collapsed": false,
     "input": [
      "from sklearn.tree import DecisionTreeClassifier\n",
      "import numpy as np\n",
      "\n",
      "user_interest_dtc = DecisionTreeClassifier(criterion=\"entropy\", random_state=0, max_depth=5, min_samples_split=10000)\n",
      "\n",
      "user_genders = []\n",
      "user_interests = []\n",
      "\n",
      "with open(\"user-interest-matrix.tsv\", \"rb\") as in_file:\n",
      "    next(in_file)\n",
      "    for line in in_file:\n",
      "        line = line.split(\"\\t\")\n",
      "        gender = line[0]\n",
      "        interests = np.array([float(x) for x in line[1:]])\n",
      "        \n",
      "        if gender == \"female\":\n",
      "            user_genders.append(1.0)\n",
      "        else:\n",
      "            user_genders.append(0.0)\n",
      "            \n",
      "        user_interests.append(interests)\n",
      "        \n",
      "user_genders = np.array(user_genders)\n",
      "user_interests = np.array(user_interests)\n",
      "\n",
      "user_interest_dtc = user_interest_dtc.fit(user_interests, user_genders)"
     ],
     "language": "python",
     "metadata": {},
     "outputs": []
    },
    {
     "cell_type": "code",
     "collapsed": false,
     "input": [
      "from sklearn import tree\n",
      "\n",
      "with open(\"user_interests.dot\", \"w\") as f:\n",
      "    f = tree.export_graphviz(user_interest_dtc, out_file=f)"
     ],
     "language": "python",
     "metadata": {},
     "outputs": [],
     "prompt_number": 2
    },
    {
     "cell_type": "markdown",
     "metadata": {},
     "source": [
      "Seems to require many branches to classify a decent portion of the data set.\n",
      "\n",
      "<img src=\"user_interests.png\" />"
     ]
    },
    {
     "cell_type": "heading",
     "level": 1,
     "metadata": {},
     "source": [
      "Association rule mining"
     ]
    },
    {
     "cell_type": "code",
     "collapsed": false,
     "input": [
      "from collections import defaultdict\n",
      "\n",
      "all_interests = defaultdict(int)\n",
      "\n",
      "with open(\"all-interests-combined.tsv\", \"rb\") as in_file:\n",
      "    for line in in_file:\n",
      "        line = line.strip().split(\"\\t\")\n",
      "        for interest in line[1:]:\n",
      "            interest = interest.strip()\n",
      "            all_interests[interest] += 1\n",
      "            \n",
      "            \n",
      "major_interest_list = []\n",
      "            \n",
      "for rank, interest in enumerate(sorted(all_interests, key=all_interests.get, reverse=True)):\n",
      "    if all_interests[interest] < 1000:\n",
      "        break\n",
      "    major_interest_list.append(interest)\n",
      "\n",
      "    \n",
      "user_major_interests = []\n",
      "    \n",
      "with open(\"all-interests-combined.tsv\", \"rb\") as in_file:\n",
      "    for line in in_file:\n",
      "        line = line.strip().split(\"\\t\")\n",
      "        user_interests = []\n",
      "        for interest in line[1:]:\n",
      "            interest = interest.strip()\n",
      "            if interest in major_interest_list:\n",
      "                user_interests.append(interest)\n",
      "                \n",
      "        user_interests = set(user_interests)\n",
      "        user_major_interests.append(user_interests)"
     ],
     "language": "python",
     "metadata": {},
     "outputs": [],
     "prompt_number": 1
    },
    {
     "cell_type": "code",
     "collapsed": false,
     "input": [
      "# Not really any good libraries for this"
     ],
     "language": "python",
     "metadata": {},
     "outputs": [],
     "prompt_number": 1
    },
    {
     "cell_type": "code",
     "collapsed": false,
     "input": [],
     "language": "python",
     "metadata": {},
     "outputs": []
    },
    {
     "cell_type": "code",
     "collapsed": false,
     "input": [],
     "language": "python",
     "metadata": {},
     "outputs": []
    },
    {
     "cell_type": "code",
     "collapsed": false,
     "input": [],
     "language": "python",
     "metadata": {},
     "outputs": []
    },
    {
     "cell_type": "heading",
     "level": 1,
     "metadata": {},
     "source": [
      "Data wrangling"
     ]
    },
    {
     "cell_type": "heading",
     "level": 3,
     "metadata": {},
     "source": [
      "Mash all the data into a single file"
     ]
    },
    {
     "cell_type": "code",
     "collapsed": false,
     "input": [
      "from glob import glob\n",
      "\n",
      "with open(\"all-interests-combined.tsv\", \"wb\") as out_file:\n",
      "    for filename in sorted(glob(\"raw-data/*.csv\")):\n",
      "        with open(filename, \"rb\") as in_file:\n",
      "            next(in_file)\n",
      "            for line in in_file:\n",
      "                line = line.split(\",\")\n",
      "                if len(line) != 4:\n",
      "                    continue\n",
      "\n",
      "                gender = line[1].strip().lower()\n",
      "                interests = line[3].strip().replace(\"  \", \"\\t\").lower()\n",
      "                \n",
      "                if gender != \"male\" and gender != \"female\":\n",
      "                    continue\n",
      "                \n",
      "                out_file.write(\"%s\\t%s\\n\" % (gender, interests))"
     ],
     "language": "python",
     "metadata": {},
     "outputs": [],
     "prompt_number": 19
    },
    {
     "cell_type": "heading",
     "level": 3,
     "metadata": {},
     "source": [
      "Rearrange data into a matrix: interests (column) by user (row)"
     ]
    },
    {
     "cell_type": "code",
     "collapsed": false,
     "input": [
      "from collections import defaultdict\n",
      "\n",
      "all_interests = defaultdict(int)\n",
      "\n",
      "with open(\"all-interests-combined.tsv\", \"rb\") as in_file:\n",
      "    for line in in_file:\n",
      "        line = line.strip().split(\"\\t\")\n",
      "        for interest in line[1:]:\n",
      "            interest = interest.strip()\n",
      "            all_interests[interest] += 1\n",
      "            \n",
      "            \n",
      "major_interest_list = []\n",
      "            \n",
      "for rank, interest in enumerate(sorted(all_interests, key=all_interests.get, reverse=True)):\n",
      "    \"\"\"rank += 1\n",
      "    if rank > 25:\n",
      "        break\n",
      "    print rank, interest, all_interests[interest]\"\"\"\n",
      "    \n",
      "    if all_interests[interest] < 1000:\n",
      "        break\n",
      "    major_interest_list.append(interest)\n",
      "            \n",
      "with open(\"user-interest-matrix.tsv\", \"wb\") as out_file:\n",
      "    \n",
      "    out_file.write(\"\\t\".join(([\"gender\"] + major_interest_list)) + \"\\n\")\n",
      "    \n",
      "    with open(\"all-interests-combined.tsv\", \"rb\") as in_file:\n",
      "        for line in in_file:\n",
      "            line = line.strip().split(\"\\t\")\n",
      "            gender = line[0].strip()\n",
      "            interests = [x.strip() for x in line[1:]]\n",
      "            \n",
      "            out_file.write(gender)\n",
      "            \n",
      "            for interest in major_interest_list:\n",
      "                if interest in interests:\n",
      "                    out_file.write(\"\\t1\")\n",
      "                else:\n",
      "                    out_file.write(\"\\t-1\")\n",
      "                    \n",
      "            out_file.write(\"\\n\")"
     ],
     "language": "python",
     "metadata": {},
     "outputs": [],
     "prompt_number": 48
    },
    {
     "cell_type": "code",
     "collapsed": false,
     "input": [],
     "language": "python",
     "metadata": {},
     "outputs": []
    }
   ],
   "metadata": {}
  }
 ]
}